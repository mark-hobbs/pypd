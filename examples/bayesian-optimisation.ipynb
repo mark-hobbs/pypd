{
 "cells": [
  {
   "cell_type": "markdown",
   "id": "ccf6847e-9d20-4f5b-915f-10abec55523f",
   "metadata": {},
   "source": [
    "# Example: bayesian optimisation\n",
    "\n",
    "Employ Bayesian optimisation to determine the parameters in the nonlinear constitutive law\n",
    "\n",
    "Experimental results for the following example can be found in [1]. \n",
    "\n",
    "[1] Grégoire, D., Rojas‐Solano, L. B., & Pijaudier‐Cabot, G. (2013). Failure\n",
    "and size effect for notched and unnotched concrete beams. International Journal\n",
    "for Numerical and Analytical Methods in Geomechanics, 37(10), 1434-1452."
   ]
  },
  {
   "cell_type": "code",
   "execution_count": 1,
   "id": "9f6f481b-3170-4e08-a4ec-5f652a4a147b",
   "metadata": {},
   "outputs": [
    {
     "name": "stdout",
     "output_type": "stream",
     "text": [
      "Not running in Colab\n"
     ]
    }
   ],
   "source": [
    "import os\n",
    "\n",
    "import numpy as np\n",
    "import matplotlib.pyplot as plt\n",
    "\n",
    "try:\n",
    "    import google.colab\n",
    "\n",
    "    IN_COLAB = True\n",
    "    !pip install git+https://github.com/mark-hobbs/pypd.git\n",
    "    print(\"Package installed successfully\")\n",
    "    import pypd\n",
    "\n",
    "    !sudo apt install cm-super dvipng texlive-latex-extra texlive-latex-recommended\n",
    "except ImportError:\n",
    "    IN_COLAB = False\n",
    "    import pypd\n",
    "\n",
    "    print(\"Not running in Colab\")"
   ]
  },
  {
   "cell_type": "code",
   "execution_count": 2,
   "id": "0da66c60-e6fc-43d9-9d3a-52061bd111cb",
   "metadata": {},
   "outputs": [
    {
     "name": "stdout",
     "output_type": "stream",
     "text": [
      "Not running in Colab.\n"
     ]
    }
   ],
   "source": [
    "if IN_COLAB:\n",
    "    try:\n",
    "        gpu_info = !nvidia-smi\n",
    "        gpu_info = \"\\n\".join(gpu_info)\n",
    "        print(\"GPU Information:\")\n",
    "        print(gpu_info)\n",
    "    except:\n",
    "        print(\"GPU information not available\")\n",
    "\n",
    "    try:\n",
    "        import multiprocessing\n",
    "\n",
    "        cpu_info = f\"Number of CPU cores: {multiprocessing.cpu_count()}\"\n",
    "        print(\"\\nCPU Information:\")\n",
    "        print(cpu_info)\n",
    "    except:\n",
    "        print(\"CPU information not available\")\n",
    "else:\n",
    "    print(\"Not running in Colab.\")"
   ]
  },
  {
   "cell_type": "markdown",
   "id": "6aadb288-7f9c-4558-9fb7-76917adcc9c7",
   "metadata": {},
   "source": [
    "### Functions required to build the input file"
   ]
  },
  {
   "cell_type": "code",
   "execution_count": 3,
   "id": "761432e7-ddd2-4390-af48-18e945ad28ea",
   "metadata": {},
   "outputs": [],
   "source": [
    "mm_to_m = 1e-3\n",
    "m_to_mm = 1e3"
   ]
  },
  {
   "cell_type": "code",
   "execution_count": 4,
   "id": "e32444bd-c441-4ab1-8c89-ac7cc3334793",
   "metadata": {},
   "outputs": [],
   "source": [
    "def build_particle_coordinates(dx, n_div_x, n_div_y):\n",
    "    particle_coordinates = np.zeros([n_div_x * n_div_y, 2])\n",
    "    counter = 0\n",
    "\n",
    "    for i_y in range(n_div_y):  # Depth\n",
    "        for i_x in range(n_div_x):  # Length\n",
    "            coord_x = dx * i_x\n",
    "            coord_y = dx * i_y\n",
    "            particle_coordinates[counter, 0] = coord_x\n",
    "            particle_coordinates[counter, 1] = coord_y\n",
    "            counter += 1\n",
    "\n",
    "    return particle_coordinates"
   ]
  },
  {
   "cell_type": "code",
   "execution_count": 5,
   "id": "090ec237-a1ed-4259-95e6-526db2834c89",
   "metadata": {},
   "outputs": [],
   "source": [
    "def build_boundary_conditions(particles):\n",
    "    bc_flag = np.zeros((len(particles), 2), dtype=np.intc)\n",
    "    bc_unit_vector = np.zeros((len(particles), 2), dtype=np.intc)\n",
    "    return bc_flag, bc_unit_vector"
   ]
  },
  {
   "cell_type": "markdown",
   "id": "b7e579cf-c77c-4212-8663-72d03a99015e",
   "metadata": {},
   "source": [
    "### Define functions to plot the experimental and numerical load-CMOD response"
   ]
  },
  {
   "cell_type": "code",
   "execution_count": 6,
   "id": "fb6fa653-f16b-40c1-b4ea-3f82e7322eaa",
   "metadata": {},
   "outputs": [],
   "source": [
    "def load_data_file(filename=\"half_notched_beam.csv\"):\n",
    "    \"\"\"\n",
    "    Determine the location of the example and construct the path to the data\n",
    "    file dynamically.\n",
    "    \"\"\"\n",
    "    file_path = os.path.join(os.getcwd(), \"data\", filename)\n",
    "    return np.genfromtxt(file_path, delimiter=\",\")"
   ]
  },
  {
   "cell_type": "code",
   "execution_count": 7,
   "id": "e9d7a555",
   "metadata": {},
   "outputs": [],
   "source": [
    "def load_data_file_github(\n",
    "    filename=\"https://raw.githubusercontent.com/mark-hobbs/PyPD/main/examples/data/half_notched_beam.csv\",\n",
    "):\n",
    "    import requests\n",
    "    import io\n",
    "\n",
    "    response = requests.get(filename)\n",
    "    data = np.genfromtxt(io.StringIO(response.text), delimiter=\",\", skip_header=1)\n",
    "    return data"
   ]
  },
  {
   "cell_type": "code",
   "execution_count": 8,
   "id": "4387401e-6478-40c7-b73a-e9ed2bf34970",
   "metadata": {},
   "outputs": [],
   "source": [
    "def plot_load_cmod(model, n_div_z, fig_title=\"load-cmod\", save_csv=False):\n",
    "    load = -np.array(model.penetrators[0].penetrator_force_history) * n_div_z\n",
    "    cmod = np.array(model.observations[1].history) - np.array(\n",
    "        model.observations[0].history\n",
    "    )\n",
    "\n",
    "    fig, ax = plt.subplots(figsize=(8, 5))\n",
    "    plot_experimental_data(ax)\n",
    "    ax.plot((cmod[:, 0] * m_to_mm), load[:, 1], label=\"Numerical\")\n",
    "\n",
    "    ax.set_xlim(0, 0.20)\n",
    "    ax.set_ylim(bottom=0)\n",
    "    ax.set_xlabel(\"CMOD (mm)\")\n",
    "    ax.set_ylabel(\"Load (N)\")\n",
    "    ax.grid(True)\n",
    "    ax.legend()\n",
    "\n",
    "    fig.tight_layout()\n",
    "    fig.savefig(fig_title, dpi=300)\n",
    "\n",
    "    if save_csv == True:\n",
    "        data = [(cmod[:, 0] * m_to_mm), load[:, 1]]\n",
    "        np.savetxt(\n",
    "            \"load_cmod.csv\", np.transpose(np.array(data)), delimiter=\",\", fmt=\"%f\"\n",
    "        )"
   ]
  },
  {
   "cell_type": "code",
   "execution_count": 9,
   "id": "5bf72c62-30fb-48d5-826b-201af5da1ccd",
   "metadata": {},
   "outputs": [],
   "source": [
    "def plot_experimental_data(ax):\n",
    "    if IN_COLAB:\n",
    "        data_file = load_data_file_github()\n",
    "    else:\n",
    "        data_file = load_data_file()\n",
    "\n",
    "    cmod = data_file[:, 0]\n",
    "    load_min = data_file[:, 1]\n",
    "    load_max = data_file[:, 2]\n",
    "\n",
    "    grey = (0.75, 0.75, 0.75)\n",
    "    ax.plot(cmod, load_min, color=grey)\n",
    "    ax.plot(cmod, load_max, color=grey)\n",
    "    ax.fill_between(\n",
    "        cmod,\n",
    "        load_min,\n",
    "        load_max,\n",
    "        color=grey,\n",
    "        edgecolor=None,\n",
    "        label=\"Experimental\",\n",
    "    )"
   ]
  },
  {
   "cell_type": "markdown",
   "id": "1474a2d7-456c-4c75-93eb-448ae7b927b3",
   "metadata": {},
   "source": [
    "### Build the particles and boundary conditions"
   ]
  },
  {
   "cell_type": "code",
   "execution_count": 10,
   "id": "8ba7b155-4bbc-43d5-89d1-6b85d5129d13",
   "metadata": {},
   "outputs": [],
   "source": [
    "dx = 2.5 * mm_to_m\n",
    "length = 175 * mm_to_m\n",
    "depth = 50 * mm_to_m\n",
    "width = 50 * mm_to_m\n",
    "n_div_x = np.rint(length / dx).astype(int)\n",
    "n_div_y = np.rint(depth / dx).astype(int)\n",
    "n_div_z = np.rint(width / dx).astype(int)\n",
    "notch = [\n",
    "    np.array([(length * 0.5) + (dx * 0.5), 0]),\n",
    "    np.array([(length * 0.5) + (dx * 0.5), depth * 0.5]),\n",
    "]"
   ]
  },
  {
   "cell_type": "code",
   "execution_count": 11,
   "id": "08d01b7e-88fc-42fe-a5ad-661f5ebe1e9e",
   "metadata": {},
   "outputs": [],
   "source": [
    "x = build_particle_coordinates(dx, n_div_x, n_div_y)\n",
    "flag, unit_vector = build_boundary_conditions(x)  # TODO: not needed"
   ]
  },
  {
   "cell_type": "markdown",
   "id": "6eb69b3c-88ee-4540-96b2-28dd79343ef3",
   "metadata": {},
   "source": [
    "### Build the model\n",
    "\n",
    "**Note:** Boundary conditions are currently required; however, they should not be mandatory, as this example employs a contact model. This limitation will be addressed in a future update."
   ]
  },
  {
   "cell_type": "code",
   "execution_count": 12,
   "id": "e2937eb8-c456-4196-8277-5fa206c7bef3",
   "metadata": {},
   "outputs": [],
   "source": [
    "material = pypd.Material(name=\"quasi-brittle\", E=37e9, Gf=143.2, density=2346, ft=3.9e6)\n",
    "bc = pypd.BoundaryConditions(flag, unit_vector, magnitude=0)\n",
    "particles = pypd.ParticleSet(x, dx, bc, material)\n",
    "\n",
    "radius = 25 * mm_to_m\n",
    "penetrators = []\n",
    "penetrators.append(\n",
    "    pypd.Penetrator(\n",
    "        np.array([0.5 * length, depth + radius - dx]),\n",
    "        np.array([0, 1]),\n",
    "        np.array([0, -0.4 * mm_to_m]),\n",
    "        radius,\n",
    "        particles,\n",
    "        name=\"Penetrator\",\n",
    "        plot=False,\n",
    "    )\n",
    ")\n",
    "penetrators.append(\n",
    "    pypd.Penetrator(\n",
    "        np.array([0.5 * depth, -radius]),\n",
    "        np.array([0, 0]),\n",
    "        np.array([0, 0]),\n",
    "        radius,\n",
    "        particles,\n",
    "        name=\"Support - left\",\n",
    "        plot=False,\n",
    "    )\n",
    ")\n",
    "penetrators.append(\n",
    "    pypd.Penetrator(\n",
    "        np.array([3 * depth, -radius]),\n",
    "        np.array([0, 0]),\n",
    "        np.array([0, 0]),\n",
    "        radius,\n",
    "        particles,\n",
    "        name=\"Support - right\",\n",
    "        plot=False,\n",
    "    )\n",
    ")\n",
    "\n",
    "observations = []\n",
    "observations.append(\n",
    "    pypd.Observation(\n",
    "        np.array([77.5 * mm_to_m, 0]), particles, period=1, name=\"CMOD - left\"\n",
    "    )\n",
    ")\n",
    "observations.append(\n",
    "    pypd.Observation(\n",
    "        np.array([97.5 * mm_to_m, 0]), particles, period=1, name=\"CMOD - right\"\n",
    "    )\n",
    ")"
   ]
  },
  {
   "cell_type": "markdown",
   "id": "ee4369a7-ed73-4942-b53d-c714f44bae08",
   "metadata": {},
   "source": [
    "### Visualise the particles and penetrators"
   ]
  },
  {
   "cell_type": "code",
   "execution_count": 13,
   "id": "7641a629-fb5b-4304-9e90-a4ef5358de43",
   "metadata": {},
   "outputs": [
    {
     "data": {
      "image/png": "[encoded data removed]",
      "text/plain": [
       "<Figure size 1400x750 with 1 Axes>"
      ]
     },
     "metadata": {},
     "output_type": "display_data"
    }
   ],
   "source": [
    "fig, ax = plt.subplots(figsize=(14, 7.5))\n",
    "ax.scatter(particles.x[:, 0], particles.x[:, 1], s=10)\n",
    "ax.axis(\"off\")\n",
    "ax.set_aspect(\"equal\")\n",
    "for penetrator in penetrators:\n",
    "    penetrator.plot(ax=ax)"
   ]
  },
  {
   "cell_type": "markdown",
   "id": "ced73f11-e0fe-462f-b817-0f342b956701",
   "metadata": {},
   "source": [
    "### Objective function\n",
    "\n",
    "The goal is to determine the values of `alpha` and `k` that minimise the difference between the experimental and numerical results."
   ]
  },
  {
   "cell_type": "code",
   "execution_count": 14,
   "id": "82ece891-c0bb-4f4b-b3e7-5cb3e406d19e",
   "metadata": {},
   "outputs": [],
   "source": [
    "def objective(model):\n",
    "    \"\"\"\n",
    "    Mean Square Error (MSE)\n",
    "    \"\"\"\n",
    "    if IN_COLAB:\n",
    "        data_file = load_data_file_github()\n",
    "    else:\n",
    "        data_file = load_data_file()\n",
    "\n",
    "    cmod = data_file[:, 0]\n",
    "    load_min = data_file[:, 1]\n",
    "    load_max = data_file[:, 2]\n",
    "    load_mean = (load_max + load_min) / 2\n",
    "\n",
    "    load_model = -np.array(model.penetrators[0].penetrator_force_history) * n_div_z\n",
    "    cmod_model = np.array(model.observations[1].history) - np.array(model.observations[0].history)\n",
    "    \n",
    "    load_model_interp = np.interp(cmod, cmod_model[:, 0] * m_to_mm, load_model[:, 1])    \n",
    "    return np.mean(np.nan_to_num(load_model_interp - load_mean, nan=0) ** 2)"
   ]
  },
  {
   "cell_type": "markdown",
   "id": "c249e47f-0c54-4d16-ab73-32529e7d00a3",
   "metadata": {},
   "source": [
    "### Design of experiments (DOE)\n",
    "\n",
    "Run 10 simulations with random samples of `alpha` and `k`"
   ]
  },
  {
   "cell_type": "code",
   "execution_count": 15,
   "id": "ee6f1dc1-4fc7-4de5-92e2-35b3950dd416",
   "metadata": {},
   "outputs": [],
   "source": [
    "import copy"
   ]
  },
  {
   "cell_type": "code",
   "execution_count": 16,
   "id": "3a5034af-e51b-4a80-85a6-3c8f6517571a",
   "metadata": {},
   "outputs": [
    {
     "name": "stderr",
     "output_type": "stream",
     "text": [
      "/Users/markhobbs/Documents/02-repositories/pypd/pypd/tools.py:93: RuntimeWarning: divide by zero encountered in scalar divide\n",
      "  alpha = alpha_numerator / denominator\n",
      "/Users/markhobbs/Documents/02-repositories/pypd/pypd/tools.py:94: RuntimeWarning: divide by zero encountered in scalar divide\n",
      "  beta = beta_numerator / denominator\n",
      "Simulation progress: 100%|██████████████████████████████████████████████████████| 100000/100000 [00:31<00:00, 3162.04steps/s]\n",
      "/Users/markhobbs/Documents/02-repositories/pypd/pypd/tools.py:93: RuntimeWarning: divide by zero encountered in scalar divide\n",
      "  alpha = alpha_numerator / denominator\n",
      "/Users/markhobbs/Documents/02-repositories/pypd/pypd/tools.py:94: RuntimeWarning: divide by zero encountered in scalar divide\n",
      "  beta = beta_numerator / denominator\n"
     ]
    },
    {
     "name": "stdout",
     "output_type": "stream",
     "text": [
      "\n",
      "Sample 0\n",
      "alpha : 0.15677110305248532, k : 36.72010972822981, MSE : 30387.398046185484\n",
      "\n"
     ]
    },
    {
     "name": "stderr",
     "output_type": "stream",
     "text": [
      "Simulation progress: 100%|██████████████████████████████████████████████████████| 100000/100000 [00:26<00:00, 3724.57steps/s]\n",
      "/Users/markhobbs/Documents/02-repositories/pypd/pypd/tools.py:93: RuntimeWarning: divide by zero encountered in scalar divide\n",
      "  alpha = alpha_numerator / denominator\n",
      "/Users/markhobbs/Documents/02-repositories/pypd/pypd/tools.py:94: RuntimeWarning: divide by zero encountered in scalar divide\n",
      "  beta = beta_numerator / denominator\n"
     ]
    },
    {
     "name": "stdout",
     "output_type": "stream",
     "text": [
      "\n",
      "Sample 1\n",
      "alpha : 0.01833770239785537, k : 78.56989436727557, MSE : 65878.35442635062\n",
      "\n"
     ]
    },
    {
     "name": "stderr",
     "output_type": "stream",
     "text": [
      "Simulation progress: 100%|██████████████████████████████████████████████████████| 100000/100000 [00:27<00:00, 3686.34steps/s]\n",
      "/Users/markhobbs/Documents/02-repositories/pypd/pypd/tools.py:93: RuntimeWarning: divide by zero encountered in scalar divide\n",
      "  alpha = alpha_numerator / denominator\n",
      "/Users/markhobbs/Documents/02-repositories/pypd/pypd/tools.py:94: RuntimeWarning: divide by zero encountered in scalar divide\n",
      "  beta = beta_numerator / denominator\n"
     ]
    },
    {
     "name": "stdout",
     "output_type": "stream",
     "text": [
      "\n",
      "Sample 2\n",
      "alpha : 0.19907260526257453, k : 203.31551475587133, MSE : 2859.3739190461697\n",
      "\n"
     ]
    },
    {
     "name": "stderr",
     "output_type": "stream",
     "text": [
      "Simulation progress: 100%|██████████████████████████████████████████████████████| 100000/100000 [00:27<00:00, 3595.17steps/s]\n",
      "/Users/markhobbs/Documents/02-repositories/pypd/pypd/tools.py:93: RuntimeWarning: divide by zero encountered in scalar divide\n",
      "  alpha = alpha_numerator / denominator\n",
      "/Users/markhobbs/Documents/02-repositories/pypd/pypd/tools.py:94: RuntimeWarning: divide by zero encountered in scalar divide\n",
      "  beta = beta_numerator / denominator\n"
     ]
    },
    {
     "name": "stdout",
     "output_type": "stream",
     "text": [
      "\n",
      "Sample 3\n",
      "alpha : 0.8550817762494654, k : 451.562399353915, MSE : 330859.54208771756\n",
      "\n"
     ]
    },
    {
     "name": "stderr",
     "output_type": "stream",
     "text": [
      "Simulation progress: 100%|██████████████████████████████████████████████████████| 100000/100000 [00:26<00:00, 3723.67steps/s]\n",
      "/Users/markhobbs/Documents/02-repositories/pypd/pypd/tools.py:93: RuntimeWarning: divide by zero encountered in scalar divide\n",
      "  alpha = alpha_numerator / denominator\n",
      "/Users/markhobbs/Documents/02-repositories/pypd/pypd/tools.py:94: RuntimeWarning: divide by zero encountered in scalar divide\n",
      "  beta = beta_numerator / denominator\n"
     ]
    },
    {
     "name": "stdout",
     "output_type": "stream",
     "text": [
      "\n",
      "Sample 4\n",
      "alpha : 0.9324225484799761, k : 311.4847208544405, MSE : 367143.8012814101\n",
      "\n"
     ]
    },
    {
     "name": "stderr",
     "output_type": "stream",
     "text": [
      "Simulation progress: 100%|██████████████████████████████████████████████████████| 100000/100000 [00:27<00:00, 3629.40steps/s]\n",
      "/Users/markhobbs/Documents/02-repositories/pypd/pypd/tools.py:93: RuntimeWarning: divide by zero encountered in scalar divide\n",
      "  alpha = alpha_numerator / denominator\n",
      "/Users/markhobbs/Documents/02-repositories/pypd/pypd/tools.py:94: RuntimeWarning: divide by zero encountered in scalar divide\n",
      "  beta = beta_numerator / denominator\n"
     ]
    },
    {
     "name": "stdout",
     "output_type": "stream",
     "text": [
      "\n",
      "Sample 5\n",
      "alpha : 0.9710299233959526, k : 63.19154528806115, MSE : 305608.99356674595\n",
      "\n"
     ]
    },
    {
     "name": "stderr",
     "output_type": "stream",
     "text": [
      "Simulation progress: 100%|██████████████████████████████████████████████████████| 100000/100000 [00:27<00:00, 3612.35steps/s]\n",
      "/Users/markhobbs/Documents/02-repositories/pypd/pypd/tools.py:93: RuntimeWarning: divide by zero encountered in scalar divide\n",
      "  alpha = alpha_numerator / denominator\n",
      "/Users/markhobbs/Documents/02-repositories/pypd/pypd/tools.py:94: RuntimeWarning: divide by zero encountered in scalar divide\n",
      "  beta = beta_numerator / denominator\n"
     ]
    },
    {
     "name": "stdout",
     "output_type": "stream",
     "text": [
      "\n",
      "Sample 6\n",
      "alpha : 0.5389527763727607, k : 196.93280511009732, MSE : 128605.4744470033\n",
      "\n"
     ]
    },
    {
     "name": "stderr",
     "output_type": "stream",
     "text": [
      "Simulation progress: 100%|██████████████████████████████████████████████████████| 100000/100000 [00:27<00:00, 3636.41steps/s]\n",
      "/Users/markhobbs/Documents/02-repositories/pypd/pypd/tools.py:93: RuntimeWarning: divide by zero encountered in scalar divide\n",
      "  alpha = alpha_numerator / denominator\n",
      "/Users/markhobbs/Documents/02-repositories/pypd/pypd/tools.py:94: RuntimeWarning: divide by zero encountered in scalar divide\n",
      "  beta = beta_numerator / denominator\n"
     ]
    },
    {
     "name": "stdout",
     "output_type": "stream",
     "text": [
      "\n",
      "Sample 7\n",
      "alpha : 0.9331835720965179, k : 386.4561626544949, MSE : 373693.1657810715\n",
      "\n"
     ]
    },
    {
     "name": "stderr",
     "output_type": "stream",
     "text": [
      "Simulation progress: 100%|██████████████████████████████████████████████████████| 100000/100000 [00:28<00:00, 3566.60steps/s]\n",
      "/Users/markhobbs/Documents/02-repositories/pypd/pypd/tools.py:93: RuntimeWarning: divide by zero encountered in scalar divide\n",
      "  alpha = alpha_numerator / denominator\n",
      "/Users/markhobbs/Documents/02-repositories/pypd/pypd/tools.py:94: RuntimeWarning: divide by zero encountered in scalar divide\n",
      "  beta = beta_numerator / denominator\n"
     ]
    },
    {
     "name": "stdout",
     "output_type": "stream",
     "text": [
      "\n",
      "Sample 8\n",
      "alpha : 0.9582954705066812, k : 277.27264789680726, MSE : 378082.6497418901\n",
      "\n"
     ]
    },
    {
     "name": "stderr",
     "output_type": "stream",
     "text": [
      "Simulation progress: 100%|██████████████████████████████████████████████████████| 100000/100000 [00:27<00:00, 3654.69steps/s]\n",
      "/Users/markhobbs/Documents/02-repositories/pypd/pypd/tools.py:93: RuntimeWarning: divide by zero encountered in scalar divide\n",
      "  alpha = alpha_numerator / denominator\n",
      "/Users/markhobbs/Documents/02-repositories/pypd/pypd/tools.py:94: RuntimeWarning: divide by zero encountered in scalar divide\n",
      "  beta = beta_numerator / denominator\n"
     ]
    },
    {
     "name": "stdout",
     "output_type": "stream",
     "text": [
      "\n",
      "Sample 9\n",
      "alpha : 0.8348786557700862, k : 6.4801418855819914, MSE : 236967.37561239573\n",
      "\n"
     ]
    },
    {
     "name": "stderr",
     "output_type": "stream",
     "text": [
      "Simulation progress: 100%|██████████████████████████████████████████████████████| 100000/100000 [00:26<00:00, 3710.18steps/s]\n",
      "/Users/markhobbs/Documents/02-repositories/pypd/pypd/tools.py:93: RuntimeWarning: divide by zero encountered in scalar divide\n",
      "  alpha = alpha_numerator / denominator\n",
      "/Users/markhobbs/Documents/02-repositories/pypd/pypd/tools.py:94: RuntimeWarning: divide by zero encountered in scalar divide\n",
      "  beta = beta_numerator / denominator\n"
     ]
    },
    {
     "name": "stdout",
     "output_type": "stream",
     "text": [
      "\n",
      "Sample 10\n",
      "alpha : 0.6539875495389917, k : 95.10224299714653, MSE : 175679.8777048266\n",
      "\n"
     ]
    },
    {
     "name": "stderr",
     "output_type": "stream",
     "text": [
      "Simulation progress: 100%|██████████████████████████████████████████████████████| 100000/100000 [00:28<00:00, 3562.99steps/s]\n",
      "/Users/markhobbs/Documents/02-repositories/pypd/pypd/tools.py:93: RuntimeWarning: divide by zero encountered in scalar divide\n",
      "  alpha = alpha_numerator / denominator\n",
      "/Users/markhobbs/Documents/02-repositories/pypd/pypd/tools.py:94: RuntimeWarning: divide by zero encountered in scalar divide\n",
      "  beta = beta_numerator / denominator\n"
     ]
    },
    {
     "name": "stdout",
     "output_type": "stream",
     "text": [
      "\n",
      "Sample 11\n",
      "alpha : 0.39923101339850586, k : 391.0206805125926, MSE : 61453.376524074316\n",
      "\n"
     ]
    },
    {
     "name": "stderr",
     "output_type": "stream",
     "text": [
      "Simulation progress: 100%|██████████████████████████████████████████████████████| 100000/100000 [00:27<00:00, 3654.36steps/s]\n",
      "/Users/markhobbs/Documents/02-repositories/pypd/pypd/tools.py:93: RuntimeWarning: divide by zero encountered in scalar divide\n",
      "  alpha = alpha_numerator / denominator\n",
      "/Users/markhobbs/Documents/02-repositories/pypd/pypd/tools.py:94: RuntimeWarning: divide by zero encountered in scalar divide\n",
      "  beta = beta_numerator / denominator\n"
     ]
    },
    {
     "name": "stdout",
     "output_type": "stream",
     "text": [
      "\n",
      "Sample 12\n",
      "alpha : 0.6831048533466829, k : 387.2019555230521, MSE : 222956.91792917522\n",
      "\n"
     ]
    },
    {
     "name": "stderr",
     "output_type": "stream",
     "text": [
      "Simulation progress: 100%|██████████████████████████████████████████████████████| 100000/100000 [00:27<00:00, 3628.99steps/s]\n",
      "/Users/markhobbs/Documents/02-repositories/pypd/pypd/tools.py:93: RuntimeWarning: divide by zero encountered in scalar divide\n",
      "  alpha = alpha_numerator / denominator\n",
      "/Users/markhobbs/Documents/02-repositories/pypd/pypd/tools.py:94: RuntimeWarning: divide by zero encountered in scalar divide\n",
      "  beta = beta_numerator / denominator\n"
     ]
    },
    {
     "name": "stdout",
     "output_type": "stream",
     "text": [
      "\n",
      "Sample 13\n",
      "alpha : 0.9246097661352112, k : 488.5346467585064, MSE : 374167.0453471674\n",
      "\n"
     ]
    },
    {
     "name": "stderr",
     "output_type": "stream",
     "text": [
      "Simulation progress: 100%|██████████████████████████████████████████████████████| 100000/100000 [00:27<00:00, 3614.68steps/s]\n",
      "/Users/markhobbs/Documents/02-repositories/pypd/pypd/tools.py:93: RuntimeWarning: divide by zero encountered in scalar divide\n",
      "  alpha = alpha_numerator / denominator\n",
      "/Users/markhobbs/Documents/02-repositories/pypd/pypd/tools.py:94: RuntimeWarning: divide by zero encountered in scalar divide\n",
      "  beta = beta_numerator / denominator\n"
     ]
    },
    {
     "name": "stdout",
     "output_type": "stream",
     "text": [
      "\n",
      "Sample 14\n",
      "alpha : 0.6793360776663663, k : 106.5830970984219, MSE : 191550.82509563147\n",
      "\n"
     ]
    },
    {
     "name": "stderr",
     "output_type": "stream",
     "text": [
      "Simulation progress: 100%|██████████████████████████████████████████████████████| 100000/100000 [00:27<00:00, 3675.64steps/s]\n",
      "/Users/markhobbs/Documents/02-repositories/pypd/pypd/tools.py:93: RuntimeWarning: divide by zero encountered in scalar divide\n",
      "  alpha = alpha_numerator / denominator\n",
      "/Users/markhobbs/Documents/02-repositories/pypd/pypd/tools.py:94: RuntimeWarning: divide by zero encountered in scalar divide\n",
      "  beta = beta_numerator / denominator\n"
     ]
    },
    {
     "name": "stdout",
     "output_type": "stream",
     "text": [
      "\n",
      "Sample 15\n",
      "alpha : 0.9753350429864198, k : 396.66552734839195, MSE : 398810.84680388373\n",
      "\n"
     ]
    },
    {
     "name": "stderr",
     "output_type": "stream",
     "text": [
      "Simulation progress: 100%|██████████████████████████████████████████████████████| 100000/100000 [00:27<00:00, 3641.31steps/s]\n",
      "/Users/markhobbs/Documents/02-repositories/pypd/pypd/tools.py:93: RuntimeWarning: divide by zero encountered in scalar divide\n",
      "  alpha = alpha_numerator / denominator\n",
      "/Users/markhobbs/Documents/02-repositories/pypd/pypd/tools.py:94: RuntimeWarning: divide by zero encountered in scalar divide\n",
      "  beta = beta_numerator / denominator\n"
     ]
    },
    {
     "name": "stdout",
     "output_type": "stream",
     "text": [
      "\n",
      "Sample 16\n",
      "alpha : 0.9625102334268789, k : 273.11997609192355, MSE : 379927.6895437732\n",
      "\n"
     ]
    },
    {
     "name": "stderr",
     "output_type": "stream",
     "text": [
      "Simulation progress: 100%|██████████████████████████████████████████████████████| 100000/100000 [00:28<00:00, 3571.08steps/s]\n",
      "/Users/markhobbs/Documents/02-repositories/pypd/pypd/tools.py:93: RuntimeWarning: divide by zero encountered in scalar divide\n",
      "  alpha = alpha_numerator / denominator\n",
      "/Users/markhobbs/Documents/02-repositories/pypd/pypd/tools.py:94: RuntimeWarning: divide by zero encountered in scalar divide\n",
      "  beta = beta_numerator / denominator\n"
     ]
    },
    {
     "name": "stdout",
     "output_type": "stream",
     "text": [
      "\n",
      "Sample 17\n",
      "alpha : 0.36036066718638327, k : 303.6117592912624, MSE : 43365.55596989323\n",
      "\n"
     ]
    },
    {
     "name": "stderr",
     "output_type": "stream",
     "text": [
      "Simulation progress: 100%|██████████████████████████████████████████████████████| 100000/100000 [00:28<00:00, 3543.25steps/s]\n",
      "/Users/markhobbs/Documents/02-repositories/pypd/pypd/tools.py:93: RuntimeWarning: divide by zero encountered in scalar divide\n",
      "  alpha = alpha_numerator / denominator\n",
      "/Users/markhobbs/Documents/02-repositories/pypd/pypd/tools.py:94: RuntimeWarning: divide by zero encountered in scalar divide\n",
      "  beta = beta_numerator / denominator\n"
     ]
    },
    {
     "name": "stdout",
     "output_type": "stream",
     "text": [
      "\n",
      "Sample 18\n",
      "alpha : 0.36633383780467554, k : 58.3259898918147, MSE : 50608.35944521137\n",
      "\n"
     ]
    },
    {
     "name": "stderr",
     "output_type": "stream",
     "text": [
      "Simulation progress: 100%|██████████████████████████████████████████████████████| 100000/100000 [00:26<00:00, 3719.68steps/s]\n",
      "/Users/markhobbs/Documents/02-repositories/pypd/pypd/tools.py:93: RuntimeWarning: divide by zero encountered in scalar divide\n",
      "  alpha = alpha_numerator / denominator\n",
      "/Users/markhobbs/Documents/02-repositories/pypd/pypd/tools.py:94: RuntimeWarning: divide by zero encountered in scalar divide\n",
      "  beta = beta_numerator / denominator\n"
     ]
    },
    {
     "name": "stdout",
     "output_type": "stream",
     "text": [
      "\n",
      "Sample 19\n",
      "alpha : 0.5185145306839195, k : 237.56147001907775, MSE : 119671.95328200128\n",
      "\n"
     ]
    },
    {
     "name": "stderr",
     "output_type": "stream",
     "text": [
      "Simulation progress: 100%|██████████████████████████████████████████████████████| 100000/100000 [00:28<00:00, 3532.07steps/s]\n",
      "/Users/markhobbs/Documents/02-repositories/pypd/pypd/tools.py:93: RuntimeWarning: divide by zero encountered in scalar divide\n",
      "  alpha = alpha_numerator / denominator\n",
      "/Users/markhobbs/Documents/02-repositories/pypd/pypd/tools.py:94: RuntimeWarning: divide by zero encountered in scalar divide\n",
      "  beta = beta_numerator / denominator\n"
     ]
    },
    {
     "name": "stdout",
     "output_type": "stream",
     "text": [
      "\n",
      "Sample 20\n",
      "alpha : 0.953345228075665, k : 440.3123321068098, MSE : 388739.20971559756\n",
      "\n"
     ]
    },
    {
     "name": "stderr",
     "output_type": "stream",
     "text": [
      "Simulation progress: 100%|██████████████████████████████████████████████████████| 100000/100000 [00:32<00:00, 3075.54steps/s]\n",
      "/Users/markhobbs/Documents/02-repositories/pypd/pypd/tools.py:93: RuntimeWarning: divide by zero encountered in scalar divide\n",
      "  alpha = alpha_numerator / denominator\n",
      "/Users/markhobbs/Documents/02-repositories/pypd/pypd/tools.py:94: RuntimeWarning: divide by zero encountered in scalar divide\n",
      "  beta = beta_numerator / denominator\n"
     ]
    },
    {
     "name": "stdout",
     "output_type": "stream",
     "text": [
      "\n",
      "Sample 21\n",
      "alpha : 0.24517072252195982, k : 344.77139820288323, MSE : 8372.55040666532\n",
      "\n"
     ]
    },
    {
     "name": "stderr",
     "output_type": "stream",
     "text": [
      "Simulation progress: 100%|██████████████████████████████████████████████████████| 100000/100000 [00:32<00:00, 3032.95steps/s]\n",
      "/Users/markhobbs/Documents/02-repositories/pypd/pypd/tools.py:93: RuntimeWarning: divide by zero encountered in scalar divide\n",
      "  alpha = alpha_numerator / denominator\n",
      "/Users/markhobbs/Documents/02-repositories/pypd/pypd/tools.py:94: RuntimeWarning: divide by zero encountered in scalar divide\n",
      "  beta = beta_numerator / denominator\n"
     ]
    },
    {
     "name": "stdout",
     "output_type": "stream",
     "text": [
      "\n",
      "Sample 22\n",
      "alpha : 0.4761102360652195, k : 176.13867322566128, MSE : 94503.25072403283\n",
      "\n"
     ]
    },
    {
     "name": "stderr",
     "output_type": "stream",
     "text": [
      "Simulation progress: 100%|██████████████████████████████████████████████████████| 100000/100000 [00:31<00:00, 3139.77steps/s]\n",
      "/Users/markhobbs/Documents/02-repositories/pypd/pypd/tools.py:93: RuntimeWarning: divide by zero encountered in scalar divide\n",
      "  alpha = alpha_numerator / denominator\n",
      "/Users/markhobbs/Documents/02-repositories/pypd/pypd/tools.py:94: RuntimeWarning: divide by zero encountered in scalar divide\n",
      "  beta = beta_numerator / denominator\n"
     ]
    },
    {
     "name": "stdout",
     "output_type": "stream",
     "text": [
      "\n",
      "Sample 23\n",
      "alpha : 0.015881400687910552, k : 306.65815709609365, MSE : 25598.050198611247\n",
      "\n"
     ]
    },
    {
     "name": "stderr",
     "output_type": "stream",
     "text": [
      "Simulation progress: 100%|██████████████████████████████████████████████████████| 100000/100000 [00:27<00:00, 3585.35steps/s]\n",
      "/Users/markhobbs/Documents/02-repositories/pypd/pypd/tools.py:93: RuntimeWarning: divide by zero encountered in scalar divide\n",
      "  alpha = alpha_numerator / denominator\n",
      "/Users/markhobbs/Documents/02-repositories/pypd/pypd/tools.py:94: RuntimeWarning: divide by zero encountered in scalar divide\n",
      "  beta = beta_numerator / denominator\n"
     ]
    },
    {
     "name": "stdout",
     "output_type": "stream",
     "text": [
      "\n",
      "Sample 24\n",
      "alpha : 0.491300802666609, k : 422.9077200169836, MSE : 109665.24985039374\n",
      "\n"
     ]
    },
    {
     "name": "stderr",
     "output_type": "stream",
     "text": [
      "Simulation progress: 100%|██████████████████████████████████████████████████████| 100000/100000 [00:27<00:00, 3653.32steps/s]\n",
      "/Users/markhobbs/Documents/02-repositories/pypd/pypd/tools.py:93: RuntimeWarning: divide by zero encountered in scalar divide\n",
      "  alpha = alpha_numerator / denominator\n",
      "/Users/markhobbs/Documents/02-repositories/pypd/pypd/tools.py:94: RuntimeWarning: divide by zero encountered in scalar divide\n",
      "  beta = beta_numerator / denominator\n"
     ]
    },
    {
     "name": "stdout",
     "output_type": "stream",
     "text": [
      "\n",
      "Sample 25\n",
      "alpha : 0.4945492680069893, k : 400.11018419406975, MSE : 111087.34107104196\n",
      "\n"
     ]
    },
    {
     "name": "stderr",
     "output_type": "stream",
     "text": [
      "Simulation progress: 100%|██████████████████████████████████████████████████████| 100000/100000 [00:34<00:00, 2916.25steps/s]\n",
      "/Users/markhobbs/Documents/02-repositories/pypd/pypd/tools.py:93: RuntimeWarning: divide by zero encountered in scalar divide\n",
      "  alpha = alpha_numerator / denominator\n",
      "/Users/markhobbs/Documents/02-repositories/pypd/pypd/tools.py:94: RuntimeWarning: divide by zero encountered in scalar divide\n",
      "  beta = beta_numerator / denominator\n"
     ]
    },
    {
     "name": "stdout",
     "output_type": "stream",
     "text": [
      "\n",
      "Sample 26\n",
      "alpha : 0.12135952353069246, k : 449.6762122652236, MSE : 14842.77915558306\n",
      "\n"
     ]
    },
    {
     "name": "stderr",
     "output_type": "stream",
     "text": [
      "Simulation progress: 100%|██████████████████████████████████████████████████████| 100000/100000 [00:36<00:00, 2775.88steps/s]\n",
      "/Users/markhobbs/Documents/02-repositories/pypd/pypd/tools.py:93: RuntimeWarning: divide by zero encountered in scalar divide\n",
      "  alpha = alpha_numerator / denominator\n",
      "/Users/markhobbs/Documents/02-repositories/pypd/pypd/tools.py:94: RuntimeWarning: divide by zero encountered in scalar divide\n",
      "  beta = beta_numerator / denominator\n"
     ]
    },
    {
     "name": "stdout",
     "output_type": "stream",
     "text": [
      "\n",
      "Sample 27\n",
      "alpha : 0.8930363099195172, k : 358.7148566095419, MSE : 348223.30383412144\n",
      "\n"
     ]
    },
    {
     "name": "stderr",
     "output_type": "stream",
     "text": [
      "Simulation progress: 100%|██████████████████████████████████████████████████████| 100000/100000 [00:33<00:00, 3000.26steps/s]\n",
      "/Users/markhobbs/Documents/02-repositories/pypd/pypd/tools.py:93: RuntimeWarning: divide by zero encountered in scalar divide\n",
      "  alpha = alpha_numerator / denominator\n",
      "/Users/markhobbs/Documents/02-repositories/pypd/pypd/tools.py:94: RuntimeWarning: divide by zero encountered in scalar divide\n",
      "  beta = beta_numerator / denominator\n"
     ]
    },
    {
     "name": "stdout",
     "output_type": "stream",
     "text": [
      "\n",
      "Sample 28\n",
      "alpha : 0.37795856945143236, k : 255.37905360732333, MSE : 50315.13534684483\n",
      "\n"
     ]
    },
    {
     "name": "stderr",
     "output_type": "stream",
     "text": [
      "Simulation progress: 100%|██████████████████████████████████████████████████████| 100000/100000 [00:31<00:00, 3126.41steps/s]\n",
      "/Users/markhobbs/Documents/02-repositories/pypd/pypd/tools.py:93: RuntimeWarning: divide by zero encountered in scalar divide\n",
      "  alpha = alpha_numerator / denominator\n",
      "/Users/markhobbs/Documents/02-repositories/pypd/pypd/tools.py:94: RuntimeWarning: divide by zero encountered in scalar divide\n",
      "  beta = beta_numerator / denominator\n"
     ]
    },
    {
     "name": "stdout",
     "output_type": "stream",
     "text": [
      "\n",
      "Sample 29\n",
      "alpha : 0.7172167748720057, k : 486.4595565417728, MSE : 247440.8316378732\n",
      "\n"
     ]
    },
    {
     "name": "stderr",
     "output_type": "stream",
     "text": [
      "Simulation progress: 100%|██████████████████████████████████████████████████████| 100000/100000 [00:35<00:00, 2814.86steps/s]\n",
      "/Users/markhobbs/Documents/02-repositories/pypd/pypd/tools.py:93: RuntimeWarning: divide by zero encountered in scalar divide\n",
      "  alpha = alpha_numerator / denominator\n",
      "/Users/markhobbs/Documents/02-repositories/pypd/pypd/tools.py:94: RuntimeWarning: divide by zero encountered in scalar divide\n",
      "  beta = beta_numerator / denominator\n"
     ]
    },
    {
     "name": "stdout",
     "output_type": "stream",
     "text": [
      "\n",
      "Sample 30\n",
      "alpha : 0.2402661662129626, k : 243.918948495551, MSE : 7323.919181834466\n",
      "\n"
     ]
    },
    {
     "name": "stderr",
     "output_type": "stream",
     "text": [
      "Simulation progress: 100%|██████████████████████████████████████████████████████| 100000/100000 [00:34<00:00, 2878.44steps/s]\n",
      "/Users/markhobbs/Documents/02-repositories/pypd/pypd/tools.py:93: RuntimeWarning: divide by zero encountered in scalar divide\n",
      "  alpha = alpha_numerator / denominator\n",
      "/Users/markhobbs/Documents/02-repositories/pypd/pypd/tools.py:94: RuntimeWarning: divide by zero encountered in scalar divide\n",
      "  beta = beta_numerator / denominator\n"
     ]
    },
    {
     "name": "stdout",
     "output_type": "stream",
     "text": [
      "\n",
      "Sample 31\n",
      "alpha : 0.027790146373289804, k : 110.78188496132424, MSE : 29879.264938073047\n",
      "\n"
     ]
    },
    {
     "name": "stderr",
     "output_type": "stream",
     "text": [
      "Simulation progress: 100%|██████████████████████████████████████████████████████| 100000/100000 [00:33<00:00, 3006.77steps/s]\n",
      "/Users/markhobbs/Documents/02-repositories/pypd/pypd/tools.py:93: RuntimeWarning: divide by zero encountered in scalar divide\n",
      "  alpha = alpha_numerator / denominator\n",
      "/Users/markhobbs/Documents/02-repositories/pypd/pypd/tools.py:94: RuntimeWarning: divide by zero encountered in scalar divide\n",
      "  beta = beta_numerator / denominator\n"
     ]
    },
    {
     "name": "stdout",
     "output_type": "stream",
     "text": [
      "\n",
      "Sample 32\n",
      "alpha : 0.24609914139276634, k : 361.82258617048404, MSE : 8581.536577327366\n",
      "\n"
     ]
    },
    {
     "name": "stderr",
     "output_type": "stream",
     "text": [
      "Simulation progress: 100%|██████████████████████████████████████████████████████| 100000/100000 [00:30<00:00, 3257.83steps/s]\n",
      "/Users/markhobbs/Documents/02-repositories/pypd/pypd/tools.py:93: RuntimeWarning: divide by zero encountered in scalar divide\n",
      "  alpha = alpha_numerator / denominator\n",
      "/Users/markhobbs/Documents/02-repositories/pypd/pypd/tools.py:94: RuntimeWarning: divide by zero encountered in scalar divide\n",
      "  beta = beta_numerator / denominator\n"
     ]
    },
    {
     "name": "stdout",
     "output_type": "stream",
     "text": [
      "\n",
      "Sample 33\n",
      "alpha : 0.20298887635414742, k : 54.65658515182786, MSE : 16003.819415043137\n",
      "\n"
     ]
    },
    {
     "name": "stderr",
     "output_type": "stream",
     "text": [
      "Simulation progress: 100%|██████████████████████████████████████████████████████| 100000/100000 [00:32<00:00, 3032.76steps/s]\n",
      "/Users/markhobbs/Documents/02-repositories/pypd/pypd/tools.py:93: RuntimeWarning: divide by zero encountered in scalar divide\n",
      "  alpha = alpha_numerator / denominator\n",
      "/Users/markhobbs/Documents/02-repositories/pypd/pypd/tools.py:94: RuntimeWarning: divide by zero encountered in scalar divide\n",
      "  beta = beta_numerator / denominator\n"
     ]
    },
    {
     "name": "stdout",
     "output_type": "stream",
     "text": [
      "\n",
      "Sample 34\n",
      "alpha : 0.811218022609856, k : 237.4417232027417, MSE : 288874.7967953714\n",
      "\n"
     ]
    },
    {
     "name": "stderr",
     "output_type": "stream",
     "text": [
      "Simulation progress: 100%|██████████████████████████████████████████████████████| 100000/100000 [00:34<00:00, 2880.84steps/s]\n",
      "/Users/markhobbs/Documents/02-repositories/pypd/pypd/tools.py:93: RuntimeWarning: divide by zero encountered in scalar divide\n",
      "  alpha = alpha_numerator / denominator\n",
      "/Users/markhobbs/Documents/02-repositories/pypd/pypd/tools.py:94: RuntimeWarning: divide by zero encountered in scalar divide\n",
      "  beta = beta_numerator / denominator\n"
     ]
    },
    {
     "name": "stdout",
     "output_type": "stream",
     "text": [
      "\n",
      "Sample 35\n",
      "alpha : 0.7031697042667356, k : 388.67946451287713, MSE : 235317.4873663564\n",
      "\n"
     ]
    },
    {
     "name": "stderr",
     "output_type": "stream",
     "text": [
      "Simulation progress: 100%|██████████████████████████████████████████████████████| 100000/100000 [00:33<00:00, 2976.27steps/s]\n",
      "/Users/markhobbs/Documents/02-repositories/pypd/pypd/tools.py:93: RuntimeWarning: divide by zero encountered in scalar divide\n",
      "  alpha = alpha_numerator / denominator\n",
      "/Users/markhobbs/Documents/02-repositories/pypd/pypd/tools.py:94: RuntimeWarning: divide by zero encountered in scalar divide\n",
      "  beta = beta_numerator / denominator\n"
     ]
    },
    {
     "name": "stdout",
     "output_type": "stream",
     "text": [
      "\n",
      "Sample 36\n",
      "alpha : 0.9807638612766959, k : 108.21162913278137, MSE : 344889.1410754996\n",
      "\n"
     ]
    },
    {
     "name": "stderr",
     "output_type": "stream",
     "text": [
      "Simulation progress: 100%|██████████████████████████████████████████████████████| 100000/100000 [00:32<00:00, 3101.84steps/s]\n",
      "/Users/markhobbs/Documents/02-repositories/pypd/pypd/tools.py:93: RuntimeWarning: divide by zero encountered in scalar divide\n",
      "  alpha = alpha_numerator / denominator\n",
      "/Users/markhobbs/Documents/02-repositories/pypd/pypd/tools.py:94: RuntimeWarning: divide by zero encountered in scalar divide\n",
      "  beta = beta_numerator / denominator\n"
     ]
    },
    {
     "name": "stdout",
     "output_type": "stream",
     "text": [
      "\n",
      "Sample 37\n",
      "alpha : 0.6516184507645103, k : 379.2850846647887, MSE : 203397.54305257904\n",
      "\n"
     ]
    },
    {
     "name": "stderr",
     "output_type": "stream",
     "text": [
      "Simulation progress: 100%|██████████████████████████████████████████████████████| 100000/100000 [00:31<00:00, 3187.46steps/s]\n",
      "/Users/markhobbs/Documents/02-repositories/pypd/pypd/tools.py:93: RuntimeWarning: divide by zero encountered in scalar divide\n",
      "  alpha = alpha_numerator / denominator\n",
      "/Users/markhobbs/Documents/02-repositories/pypd/pypd/tools.py:94: RuntimeWarning: divide by zero encountered in scalar divide\n",
      "  beta = beta_numerator / denominator\n"
     ]
    },
    {
     "name": "stdout",
     "output_type": "stream",
     "text": [
      "\n",
      "Sample 38\n",
      "alpha : 0.6005867963090188, k : 477.59068521041155, MSE : 175063.8993995643\n",
      "\n"
     ]
    },
    {
     "name": "stderr",
     "output_type": "stream",
     "text": [
      "Simulation progress: 100%|██████████████████████████████████████████████████████| 100000/100000 [00:31<00:00, 3152.45steps/s]\n",
      "/Users/markhobbs/Documents/02-repositories/pypd/pypd/tools.py:93: RuntimeWarning: divide by zero encountered in scalar divide\n",
      "  alpha = alpha_numerator / denominator\n",
      "/Users/markhobbs/Documents/02-repositories/pypd/pypd/tools.py:94: RuntimeWarning: divide by zero encountered in scalar divide\n",
      "  beta = beta_numerator / denominator\n"
     ]
    },
    {
     "name": "stdout",
     "output_type": "stream",
     "text": [
      "\n",
      "Sample 39\n",
      "alpha : 0.034815662142142934, k : 400.9604063113001, MSE : 38948.56332467882\n",
      "\n"
     ]
    },
    {
     "name": "stderr",
     "output_type": "stream",
     "text": [
      "Simulation progress: 100%|██████████████████████████████████████████████████████| 100000/100000 [00:27<00:00, 3580.78steps/s]\n",
      "/Users/markhobbs/Documents/02-repositories/pypd/pypd/tools.py:93: RuntimeWarning: divide by zero encountered in scalar divide\n",
      "  alpha = alpha_numerator / denominator\n",
      "/Users/markhobbs/Documents/02-repositories/pypd/pypd/tools.py:94: RuntimeWarning: divide by zero encountered in scalar divide\n",
      "  beta = beta_numerator / denominator\n"
     ]
    },
    {
     "name": "stdout",
     "output_type": "stream",
     "text": [
      "\n",
      "Sample 40\n",
      "alpha : 0.34590991262329485, k : 108.80704789549628, MSE : 37443.0913708945\n",
      "\n"
     ]
    },
    {
     "name": "stderr",
     "output_type": "stream",
     "text": [
      "Simulation progress: 100%|██████████████████████████████████████████████████████| 100000/100000 [00:27<00:00, 3600.16steps/s]\n",
      "/Users/markhobbs/Documents/02-repositories/pypd/pypd/tools.py:93: RuntimeWarning: divide by zero encountered in scalar divide\n",
      "  alpha = alpha_numerator / denominator\n",
      "/Users/markhobbs/Documents/02-repositories/pypd/pypd/tools.py:94: RuntimeWarning: divide by zero encountered in scalar divide\n",
      "  beta = beta_numerator / denominator\n"
     ]
    },
    {
     "name": "stdout",
     "output_type": "stream",
     "text": [
      "\n",
      "Sample 41\n",
      "alpha : 0.9779887792375843, k : 378.3028865605384, MSE : 399025.7305775399\n",
      "\n"
     ]
    },
    {
     "name": "stderr",
     "output_type": "stream",
     "text": [
      "Simulation progress: 100%|██████████████████████████████████████████████████████| 100000/100000 [00:27<00:00, 3600.70steps/s]\n",
      "/Users/markhobbs/Documents/02-repositories/pypd/pypd/tools.py:93: RuntimeWarning: divide by zero encountered in scalar divide\n",
      "  alpha = alpha_numerator / denominator\n",
      "/Users/markhobbs/Documents/02-repositories/pypd/pypd/tools.py:94: RuntimeWarning: divide by zero encountered in scalar divide\n",
      "  beta = beta_numerator / denominator\n"
     ]
    },
    {
     "name": "stdout",
     "output_type": "stream",
     "text": [
      "\n",
      "Sample 42\n",
      "alpha : 0.6816968092812121, k : 191.97363562361036, MSE : 208288.34119990788\n",
      "\n"
     ]
    },
    {
     "name": "stderr",
     "output_type": "stream",
     "text": [
      "Simulation progress: 100%|██████████████████████████████████████████████████████| 100000/100000 [00:32<00:00, 3082.24steps/s]\n",
      "/Users/markhobbs/Documents/02-repositories/pypd/pypd/tools.py:93: RuntimeWarning: divide by zero encountered in scalar divide\n",
      "  alpha = alpha_numerator / denominator\n",
      "/Users/markhobbs/Documents/02-repositories/pypd/pypd/tools.py:94: RuntimeWarning: divide by zero encountered in scalar divide\n",
      "  beta = beta_numerator / denominator\n"
     ]
    },
    {
     "name": "stdout",
     "output_type": "stream",
     "text": [
      "\n",
      "Sample 43\n",
      "alpha : 0.25572395388647207, k : 39.793772833497556, MSE : 34686.185099742506\n",
      "\n"
     ]
    },
    {
     "name": "stderr",
     "output_type": "stream",
     "text": [
      "Simulation progress: 100%|██████████████████████████████████████████████████████| 100000/100000 [00:31<00:00, 3189.93steps/s]\n",
      "/Users/markhobbs/Documents/02-repositories/pypd/pypd/tools.py:93: RuntimeWarning: divide by zero encountered in scalar divide\n",
      "  alpha = alpha_numerator / denominator\n",
      "/Users/markhobbs/Documents/02-repositories/pypd/pypd/tools.py:94: RuntimeWarning: divide by zero encountered in scalar divide\n",
      "  beta = beta_numerator / denominator\n"
     ]
    },
    {
     "name": "stdout",
     "output_type": "stream",
     "text": [
      "\n",
      "Sample 44\n",
      "alpha : 0.5922084215138533, k : 264.528253071671, MSE : 162682.51164079647\n",
      "\n"
     ]
    },
    {
     "name": "stderr",
     "output_type": "stream",
     "text": [
      "Simulation progress: 100%|██████████████████████████████████████████████████████| 100000/100000 [00:30<00:00, 3276.37steps/s]\n",
      "/Users/markhobbs/Documents/02-repositories/pypd/pypd/tools.py:93: RuntimeWarning: divide by zero encountered in scalar divide\n",
      "  alpha = alpha_numerator / denominator\n",
      "/Users/markhobbs/Documents/02-repositories/pypd/pypd/tools.py:94: RuntimeWarning: divide by zero encountered in scalar divide\n",
      "  beta = beta_numerator / denominator\n"
     ]
    },
    {
     "name": "stdout",
     "output_type": "stream",
     "text": [
      "\n",
      "Sample 45\n",
      "alpha : 0.6793368955375724, k : 75.86261973708652, MSE : 182186.72462729685\n",
      "\n"
     ]
    },
    {
     "name": "stderr",
     "output_type": "stream",
     "text": [
      "Simulation progress: 100%|██████████████████████████████████████████████████████| 100000/100000 [00:31<00:00, 3223.80steps/s]\n",
      "/Users/markhobbs/Documents/02-repositories/pypd/pypd/tools.py:93: RuntimeWarning: divide by zero encountered in scalar divide\n",
      "  alpha = alpha_numerator / denominator\n",
      "/Users/markhobbs/Documents/02-repositories/pypd/pypd/tools.py:94: RuntimeWarning: divide by zero encountered in scalar divide\n",
      "  beta = beta_numerator / denominator\n"
     ]
    },
    {
     "name": "stdout",
     "output_type": "stream",
     "text": [
      "\n",
      "Sample 46\n",
      "alpha : 0.4282324994870216, k : 394.5488020886137, MSE : 75732.7970267841\n",
      "\n"
     ]
    },
    {
     "name": "stderr",
     "output_type": "stream",
     "text": [
      "Simulation progress: 100%|██████████████████████████████████████████████████████| 100000/100000 [00:30<00:00, 3323.79steps/s]\n",
      "/Users/markhobbs/Documents/02-repositories/pypd/pypd/tools.py:93: RuntimeWarning: divide by zero encountered in scalar divide\n",
      "  alpha = alpha_numerator / denominator\n",
      "/Users/markhobbs/Documents/02-repositories/pypd/pypd/tools.py:94: RuntimeWarning: divide by zero encountered in scalar divide\n",
      "  beta = beta_numerator / denominator\n"
     ]
    },
    {
     "name": "stdout",
     "output_type": "stream",
     "text": [
      "\n",
      "Sample 47\n",
      "alpha : 0.9714081805390279, k : 33.02402081390326, MSE : 265653.94684203994\n",
      "\n"
     ]
    },
    {
     "name": "stderr",
     "output_type": "stream",
     "text": [
      "Simulation progress: 100%|██████████████████████████████████████████████████████| 100000/100000 [00:30<00:00, 3301.21steps/s]\n",
      "/Users/markhobbs/Documents/02-repositories/pypd/pypd/tools.py:93: RuntimeWarning: divide by zero encountered in scalar divide\n",
      "  alpha = alpha_numerator / denominator\n",
      "/Users/markhobbs/Documents/02-repositories/pypd/pypd/tools.py:94: RuntimeWarning: divide by zero encountered in scalar divide\n",
      "  beta = beta_numerator / denominator\n"
     ]
    },
    {
     "name": "stdout",
     "output_type": "stream",
     "text": [
      "\n",
      "Sample 48\n",
      "alpha : 0.2596650805234729, k : 429.34477769518674, MSE : 11371.062624077385\n",
      "\n"
     ]
    },
    {
     "name": "stderr",
     "output_type": "stream",
     "text": [
      "Simulation progress: 100%|██████████████████████████████████████████████████████| 100000/100000 [00:27<00:00, 3573.26steps/s]\n"
     ]
    },
    {
     "name": "stdout",
     "output_type": "stream",
     "text": [
      "\n",
      "Sample 49\n",
      "alpha : 0.6578653987381894, k : 230.5357060602709, MSE : 198549.13865363854\n",
      "\n",
      "[(0.15677110305248532, 36.72010972822981, 30387.398046185484), (0.01833770239785537, 78.56989436727557, 65878.35442635062), (0.19907260526257453, 203.31551475587133, 2859.3739190461697), (0.8550817762494654, 451.562399353915, 330859.54208771756), (0.9324225484799761, 311.4847208544405, 367143.8012814101), (0.9710299233959526, 63.19154528806115, 305608.99356674595), (0.5389527763727607, 196.93280511009732, 128605.4744470033), (0.9331835720965179, 386.4561626544949, 373693.1657810715), (0.9582954705066812, 277.27264789680726, 378082.6497418901), (0.8348786557700862, 6.4801418855819914, 236967.37561239573), (0.6539875495389917, 95.10224299714653, 175679.8777048266), (0.39923101339850586, 391.0206805125926, 61453.376524074316), (0.6831048533466829, 387.2019555230521, 222956.91792917522), (0.9246097661352112, 488.5346467585064, 374167.0453471674), (0.6793360776663663, 106.5830970984219, 191550.82509563147), (0.9753350429864198, 396.66552734839195, 398810.84680388373), (0.9625102334268789, 273.11997609192355, 379927.6895437732), (0.36036066718638327, 303.6117592912624, 43365.55596989323), (0.36633383780467554, 58.3259898918147, 50608.35944521137), (0.5185145306839195, 237.56147001907775, 119671.95328200128), (0.953345228075665, 440.3123321068098, 388739.20971559756), (0.24517072252195982, 344.77139820288323, 8372.55040666532), (0.4761102360652195, 176.13867322566128, 94503.25072403283), (0.015881400687910552, 306.65815709609365, 25598.050198611247), (0.491300802666609, 422.9077200169836, 109665.24985039374), (0.4945492680069893, 400.11018419406975, 111087.34107104196), (0.12135952353069246, 449.6762122652236, 14842.77915558306), (0.8930363099195172, 358.7148566095419, 348223.30383412144), (0.37795856945143236, 255.37905360732333, 50315.13534684483), (0.7172167748720057, 486.4595565417728, 247440.8316378732), (0.2402661662129626, 243.918948495551, 7323.919181834466), (0.027790146373289804, 110.78188496132424, 29879.264938073047), (0.24609914139276634, 361.82258617048404, 8581.536577327366), (0.20298887635414742, 54.65658515182786, 16003.819415043137), (0.811218022609856, 237.4417232027417, 288874.7967953714), (0.7031697042667356, 388.67946451287713, 235317.4873663564), (0.9807638612766959, 108.21162913278137, 344889.1410754996), (0.6516184507645103, 379.2850846647887, 203397.54305257904), (0.6005867963090188, 477.59068521041155, 175063.8993995643), (0.034815662142142934, 400.9604063113001, 38948.56332467882), (0.34590991262329485, 108.80704789549628, 37443.0913708945), (0.9779887792375843, 378.3028865605384, 399025.7305775399), (0.6816968092812121, 191.97363562361036, 208288.34119990788), (0.25572395388647207, 39.793772833497556, 34686.185099742506), (0.5922084215138533, 264.528253071671, 162682.51164079647), (0.6793368955375724, 75.86261973708652, 182186.72462729685), (0.4282324994870216, 394.5488020886137, 75732.7970267841), (0.9714081805390279, 33.02402081390326, 265653.94684203994), (0.2596650805234729, 429.34477769518674, 11371.062624077385), (0.6578653987381894, 230.5357060602709, 198549.13865363854)]\n"
     ]
    }
   ],
   "source": [
    "simulation = pypd.Simulation(n_time_steps=100000, damping=0)\n",
    "\n",
    "results = []\n",
    "n_samples = 50\n",
    "for i in range(n_samples):\n",
    "    alpha = np.random.uniform(0, 1)\n",
    "    k = np.random.uniform(0, 500)\n",
    "    bonds = pypd.BondSet(copy.deepcopy(particles),\n",
    "                         constitutive_law=pypd.NonLinear, \n",
    "                         constitutive_law_params={'alpha': alpha, 'k': k},\n",
    "                         surface_correction=True, \n",
    "                         notch=notch)\n",
    "    model = pypd.Model(copy.deepcopy(particles), \n",
    "                       bonds, \n",
    "                       penetrators=copy.deepcopy(penetrators), \n",
    "                       observations=copy.deepcopy(observations))\n",
    "    simulation.run(model)\n",
    "    mse = float(objective(model))\n",
    "    \n",
    "    print(f\"\\nSample {i}\")\n",
    "    print(f\"alpha : {alpha}, k : {k}, MSE : {mse}\\n\")\n",
    "    results.append((alpha, k, mse))\n",
    "\n",
    "print(results)"
   ]
  },
  {
   "cell_type": "markdown",
   "id": "230d0f6e-53de-4276-a27b-aca0f767d001",
   "metadata": {},
   "source": [
    "### Save and visualise results"
   ]
  },
  {
   "cell_type": "code",
   "execution_count": 21,
   "id": "4f29140a-9c6a-41c5-9817-628c39833151",
   "metadata": {},
   "outputs": [],
   "source": [
    "import csv\n",
    "save = False\n",
    "\n",
    "if save:\n",
    "    with open('results.csv', mode='w', newline='') as file:\n",
    "        writer = csv.writer(file)\n",
    "        writer.writerow([\"alpha\", \"k\", \"MSE\"])\n",
    "        writer.writerows(results)"
   ]
  },
  {
   "cell_type": "code",
   "execution_count": 18,
   "id": "1c08235f-ec7e-4a7d-b0f1-b446154284e7",
   "metadata": {},
   "outputs": [
    {
     "data": {
      "image/png": "[encoded data removed]",
      "text/plain": [
       "<Figure size 1000x600 with 2 Axes>"
      ]
     },
     "metadata": {},
     "output_type": "display_data"
    }
   ],
   "source": [
    "# results = load_data_file(\"bayesian-optimisation.csv\")\n",
    "\n",
    "samples = np.array(results)\n",
    "# samples = samples[1:] # remove headings\n",
    "\n",
    "plt.figure(figsize=(10, 6))\n",
    "scatter = plt.scatter(samples[:, 0], samples[:, 1], c=np.log(samples[:, 2]), cmap='viridis', s=50)\n",
    "plt.colorbar(scatter, label='log(MSE Error)')\n",
    "plt.xlabel('Alpha')\n",
    "plt.ylabel('K')\n",
    "plt.grid(True)"
   ]
  },
  {
   "cell_type": "markdown",
   "id": "6a429541-22d3-4d6c-b04f-79b16fc724e2",
   "metadata": {},
   "source": [
    "### Fit a Gaussian Process (GP)"
   ]
  },
  {
   "cell_type": "code",
   "execution_count": 19,
   "id": "96187c27-47ca-4415-9d2d-300f59a5f576",
   "metadata": {},
   "outputs": [
    {
     "data": {
      "application/vnd.jupyter.widget-view+json": {
       "model_id": "631aae30f1a74a88ab1bd47359f02247",
       "version_major": 2,
       "version_minor": 0
      },
      "text/plain": [
       "HBox(children=(VBox(children=(IntProgress(value=0, max=1000), HTML(value=''))), Box(children=(HTML(value=''),)…"
      ]
     },
     "metadata": {},
     "output_type": "display_data"
    },
    {
     "name": "stderr",
     "output_type": "stream",
     "text": [
      " /Users/markhobbs/.local/share/virtualenvs/pypd-EEdp8jsB/lib/python3.11/site-packages/GPy/kern/src/stationary.py:137: RuntimeWarning:overflow encountered in square\n",
      " /Users/markhobbs/.local/share/virtualenvs/pypd-EEdp8jsB/lib/python3.11/site-packages/GPy/kern/src/stationary.py:138: RuntimeWarning:invalid value encountered in add\n",
      " /Users/markhobbs/.local/share/virtualenvs/pypd-EEdp8jsB/lib/python3.11/site-packages/GPy/kern/src/stationary.py:166: RuntimeWarning:overflow encountered in divide\n"
     ]
    },
    {
     "data": {
      "text/plain": [
       "<paramz.optimization.optimization.opt_lbfgsb at 0x1778f0390>"
      ]
     },
     "execution_count": 19,
     "metadata": {},
     "output_type": "execute_result"
    }
   ],
   "source": [
    "import GPy\n",
    "\n",
    "X = samples[:, :2]\n",
    "Y = np.log(samples[:, 2].reshape(-1, 1))\n",
    "\n",
    "kernel = GPy.kern.RBF(input_dim=2, ARD=True)\n",
    "\n",
    "gp = GPy.models.GPRegression(X, Y, kernel)\n",
    "gp.optimize(messages=True)"
   ]
  },
  {
   "cell_type": "markdown",
   "id": "c46e46a3-0903-4c52-90c0-164859d8cded",
   "metadata": {},
   "source": [
    "### Fitted GP"
   ]
  },
  {
   "cell_type": "code",
   "execution_count": 20,
   "id": "eeca5c4e-f395-48dc-9746-cadcd392ff89",
   "metadata": {},
   "outputs": [
    {
     "data": {
      "image/png": "[encoded data removed]",
      "text/plain": [
       "<Figure size 1000x600 with 1 Axes>"
      ]
     },
     "metadata": {},
     "output_type": "display_data"
    }
   ],
   "source": [
    "alpha_grid, k_grid = np.meshgrid(\n",
    "    np.linspace(X[:, 0].min(), X[:, 0].max(), 1000),\n",
    "    np.linspace(X[:, 1].min(), X[:, 1].max(), 1000)\n",
    ")\n",
    "X_pred = np.column_stack([alpha_grid.ravel(), k_grid.ravel()])\n",
    "\n",
    "mean, variance = gp.predict(X_pred)\n",
    "mean = mean.reshape(alpha_grid.shape)\n",
    "variance = variance.reshape(alpha_grid.shape)\n",
    "\n",
    "plt.figure(figsize=(10, 6))\n",
    "scatter = plt.scatter(samples[:, 0], samples[:, 1], c=np.log(samples[:, 2]), cmap='viridis', s=50)\n",
    "plt.xlabel('Alpha')\n",
    "plt.ylabel('K')\n",
    "\n",
    "contour = plt.contourf(alpha_grid, k_grid, mean, levels=20, cmap='viridis', alpha=0.6)"
   ]
  }
 ],
 "metadata": {
  "kernelspec": {
   "display_name": "Python 3 (ipykernel)",
   "language": "python",
   "name": "python3"
  },
  "language_info": {
   "codemirror_mode": {
    "name": "ipython",
    "version": 3
   },
   "file_extension": ".py",
   "mimetype": "text/x-python",
   "name": "python",
   "nbconvert_exporter": "python",
   "pygments_lexer": "ipython3",
   "version": "3.11.6"
  }
 },
 "nbformat": 4,
 "nbformat_minor": 5
}
